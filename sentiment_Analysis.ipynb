{
 "cells": [
  {
   "cell_type": "markdown",
   "id": "493a894b",
   "metadata": {},
   "source": [
    "### improting"
   ]
  },
  {
   "cell_type": "code",
   "execution_count": 1,
   "id": "2bcf4e35",
   "metadata": {},
   "outputs": [],
   "source": [
    "import pandas as pd\n",
    "import numpy as np"
   ]
  },
  {
   "cell_type": "code",
   "execution_count": 3,
   "id": "a4e4b5e9",
   "metadata": {},
   "outputs": [],
   "source": [
    "df = pd.read_excel('original_dataset.xlsx')"
   ]
  },
  {
   "cell_type": "markdown",
   "id": "92f48775",
   "metadata": {},
   "source": [
    "### Data Profiling"
   ]
  },
  {
   "cell_type": "code",
   "execution_count": 4,
   "id": "3fa6dba1",
   "metadata": {},
   "outputs": [
    {
     "data": {
      "text/html": [
       "<div>\n",
       "<style scoped>\n",
       "    .dataframe tbody tr th:only-of-type {\n",
       "        vertical-align: middle;\n",
       "    }\n",
       "\n",
       "    .dataframe tbody tr th {\n",
       "        vertical-align: top;\n",
       "    }\n",
       "\n",
       "    .dataframe thead th {\n",
       "        text-align: right;\n",
       "    }\n",
       "</style>\n",
       "<table border=\"1\" class=\"dataframe\">\n",
       "  <thead>\n",
       "    <tr style=\"text-align: right;\">\n",
       "      <th></th>\n",
       "      <th>Unnamed: 0</th>\n",
       "      <th>review_description</th>\n",
       "      <th>rating</th>\n",
       "      <th>company</th>\n",
       "    </tr>\n",
       "  </thead>\n",
       "  <tbody>\n",
       "    <tr>\n",
       "      <th>0</th>\n",
       "      <td>0</td>\n",
       "      <td>سيئ جدا بعد الإصدار الجديد</td>\n",
       "      <td>-1</td>\n",
       "      <td>alahli_bank</td>\n",
       "    </tr>\n",
       "    <tr>\n",
       "      <th>1</th>\n",
       "      <td>1</td>\n",
       "      <td>ابلكيشن زباله بجد</td>\n",
       "      <td>-1</td>\n",
       "      <td>alahli_bank</td>\n",
       "    </tr>\n",
       "    <tr>\n",
       "      <th>2</th>\n",
       "      <td>2</td>\n",
       "      <td>سيئ التطبيق لايعمل</td>\n",
       "      <td>-1</td>\n",
       "      <td>alahli_bank</td>\n",
       "    </tr>\n",
       "    <tr>\n",
       "      <th>3</th>\n",
       "      <td>3</td>\n",
       "      <td>للأسف التطبيق للأسوأ كان جدا رائع وسهل وبسيط ا...</td>\n",
       "      <td>-1</td>\n",
       "      <td>alahli_bank</td>\n",
       "    </tr>\n",
       "    <tr>\n",
       "      <th>4</th>\n",
       "      <td>4</td>\n",
       "      <td>التحديث بطيئ جدا جدا عند الفتح</td>\n",
       "      <td>-1</td>\n",
       "      <td>alahli_bank</td>\n",
       "    </tr>\n",
       "  </tbody>\n",
       "</table>\n",
       "</div>"
      ],
      "text/plain": [
       "   Unnamed: 0                                 review_description  rating  \\\n",
       "0           0                         سيئ جدا بعد الإصدار الجديد      -1   \n",
       "1           1                                  ابلكيشن زباله بجد      -1   \n",
       "2           2                                 سيئ التطبيق لايعمل      -1   \n",
       "3           3  للأسف التطبيق للأسوأ كان جدا رائع وسهل وبسيط ا...      -1   \n",
       "4           4                     التحديث بطيئ جدا جدا عند الفتح      -1   \n",
       "\n",
       "       company  \n",
       "0  alahli_bank  \n",
       "1  alahli_bank  \n",
       "2  alahli_bank  \n",
       "3  alahli_bank  \n",
       "4  alahli_bank  "
      ]
     },
     "execution_count": 4,
     "metadata": {},
     "output_type": "execute_result"
    }
   ],
   "source": [
    "df.head()"
   ]
  },
  {
   "cell_type": "code",
   "execution_count": 5,
   "id": "65a15e48",
   "metadata": {},
   "outputs": [
    {
     "data": {
      "text/html": [
       "<div>\n",
       "<style scoped>\n",
       "    .dataframe tbody tr th:only-of-type {\n",
       "        vertical-align: middle;\n",
       "    }\n",
       "\n",
       "    .dataframe tbody tr th {\n",
       "        vertical-align: top;\n",
       "    }\n",
       "\n",
       "    .dataframe thead th {\n",
       "        text-align: right;\n",
       "    }\n",
       "</style>\n",
       "<table border=\"1\" class=\"dataframe\">\n",
       "  <thead>\n",
       "    <tr style=\"text-align: right;\">\n",
       "      <th></th>\n",
       "      <th>Unnamed: 0</th>\n",
       "      <th>review_description</th>\n",
       "      <th>rating</th>\n",
       "      <th>company</th>\n",
       "    </tr>\n",
       "  </thead>\n",
       "  <tbody>\n",
       "    <tr>\n",
       "      <th>67122</th>\n",
       "      <td>67122</td>\n",
       "      <td>كتاب جيد وإن كان مملا بعض الشيء عند منتصف الكت...</td>\n",
       "      <td>0</td>\n",
       "      <td>hotels</td>\n",
       "    </tr>\n",
       "    <tr>\n",
       "      <th>67123</th>\n",
       "      <td>67123</td>\n",
       "      <td>أول تجربة مع الخيال العلمي...الكثير من المعلوم...</td>\n",
       "      <td>0</td>\n",
       "      <td>hotels</td>\n",
       "    </tr>\n",
       "    <tr>\n",
       "      <th>67124</th>\n",
       "      <td>67124</td>\n",
       "      <td>مرضي. الافطار لذيذ. لا يوجد قائمة طعام في الغر...</td>\n",
       "      <td>0</td>\n",
       "      <td>hotels</td>\n",
       "    </tr>\n",
       "    <tr>\n",
       "      <th>67125</th>\n",
       "      <td>67125</td>\n",
       "      <td>الرسائل بين وائل و شوق كانت أجمل مافي الرواية....</td>\n",
       "      <td>0</td>\n",
       "      <td>hotels</td>\n",
       "    </tr>\n",
       "    <tr>\n",
       "      <th>67126</th>\n",
       "      <td>67126</td>\n",
       "      <td>استقبال سيء جدا وعدم الاستعداد للنزلاء . لا شي...</td>\n",
       "      <td>0</td>\n",
       "      <td>hotels</td>\n",
       "    </tr>\n",
       "  </tbody>\n",
       "</table>\n",
       "</div>"
      ],
      "text/plain": [
       "       Unnamed: 0                                 review_description  rating  \\\n",
       "67122       67122  كتاب جيد وإن كان مملا بعض الشيء عند منتصف الكت...       0   \n",
       "67123       67123  أول تجربة مع الخيال العلمي...الكثير من المعلوم...       0   \n",
       "67124       67124  مرضي. الافطار لذيذ. لا يوجد قائمة طعام في الغر...       0   \n",
       "67125       67125  الرسائل بين وائل و شوق كانت أجمل مافي الرواية....       0   \n",
       "67126       67126  استقبال سيء جدا وعدم الاستعداد للنزلاء . لا شي...       0   \n",
       "\n",
       "      company  \n",
       "67122  hotels  \n",
       "67123  hotels  \n",
       "67124  hotels  \n",
       "67125  hotels  \n",
       "67126  hotels  "
      ]
     },
     "execution_count": 5,
     "metadata": {},
     "output_type": "execute_result"
    }
   ],
   "source": [
    "df.tail()"
   ]
  },
  {
   "cell_type": "code",
   "execution_count": 6,
   "id": "8128eb2a",
   "metadata": {},
   "outputs": [
    {
     "name": "stdout",
     "output_type": "stream",
     "text": [
      "<class 'pandas.core.frame.DataFrame'>\n",
      "RangeIndex: 67127 entries, 0 to 67126\n",
      "Data columns (total 4 columns):\n",
      " #   Column              Non-Null Count  Dtype \n",
      "---  ------              --------------  ----- \n",
      " 0   Unnamed: 0          67127 non-null  int64 \n",
      " 1   review_description  67125 non-null  object\n",
      " 2   rating              67127 non-null  int64 \n",
      " 3   company             67127 non-null  object\n",
      "dtypes: int64(2), object(2)\n",
      "memory usage: 2.0+ MB\n"
     ]
    }
   ],
   "source": [
    "df.info()"
   ]
  },
  {
   "cell_type": "code",
   "execution_count": 8,
   "id": "d87e142a",
   "metadata": {},
   "outputs": [
    {
     "data": {
      "text/html": [
       "<div>\n",
       "<style scoped>\n",
       "    .dataframe tbody tr th:only-of-type {\n",
       "        vertical-align: middle;\n",
       "    }\n",
       "\n",
       "    .dataframe tbody tr th {\n",
       "        vertical-align: top;\n",
       "    }\n",
       "\n",
       "    .dataframe thead th {\n",
       "        text-align: right;\n",
       "    }\n",
       "</style>\n",
       "<table border=\"1\" class=\"dataframe\">\n",
       "  <thead>\n",
       "    <tr style=\"text-align: right;\">\n",
       "      <th></th>\n",
       "      <th>count</th>\n",
       "      <th>mean</th>\n",
       "      <th>std</th>\n",
       "      <th>min</th>\n",
       "      <th>25%</th>\n",
       "      <th>50%</th>\n",
       "      <th>75%</th>\n",
       "      <th>max</th>\n",
       "    </tr>\n",
       "  </thead>\n",
       "  <tbody>\n",
       "    <tr>\n",
       "      <th>Unnamed: 0</th>\n",
       "      <td>67127.0</td>\n",
       "      <td>33563.000000</td>\n",
       "      <td>19378.040097</td>\n",
       "      <td>0.0</td>\n",
       "      <td>16781.5</td>\n",
       "      <td>33563.0</td>\n",
       "      <td>50344.5</td>\n",
       "      <td>67126.0</td>\n",
       "    </tr>\n",
       "    <tr>\n",
       "      <th>rating</th>\n",
       "      <td>67127.0</td>\n",
       "      <td>-0.040163</td>\n",
       "      <td>0.802836</td>\n",
       "      <td>-1.0</td>\n",
       "      <td>-1.0</td>\n",
       "      <td>0.0</td>\n",
       "      <td>1.0</td>\n",
       "      <td>1.0</td>\n",
       "    </tr>\n",
       "  </tbody>\n",
       "</table>\n",
       "</div>"
      ],
      "text/plain": [
       "              count          mean           std  min      25%      50%  \\\n",
       "Unnamed: 0  67127.0  33563.000000  19378.040097  0.0  16781.5  33563.0   \n",
       "rating      67127.0     -0.040163      0.802836 -1.0     -1.0      0.0   \n",
       "\n",
       "                75%      max  \n",
       "Unnamed: 0  50344.5  67126.0  \n",
       "rating          1.0      1.0  "
      ]
     },
     "execution_count": 8,
     "metadata": {},
     "output_type": "execute_result"
    }
   ],
   "source": [
    "df.describe().T"
   ]
  },
  {
   "cell_type": "code",
   "execution_count": 9,
   "id": "24a25d1a",
   "metadata": {},
   "outputs": [
    {
     "data": {
      "text/html": [
       "<div>\n",
       "<style scoped>\n",
       "    .dataframe tbody tr th:only-of-type {\n",
       "        vertical-align: middle;\n",
       "    }\n",
       "\n",
       "    .dataframe tbody tr th {\n",
       "        vertical-align: top;\n",
       "    }\n",
       "\n",
       "    .dataframe thead th {\n",
       "        text-align: right;\n",
       "    }\n",
       "</style>\n",
       "<table border=\"1\" class=\"dataframe\">\n",
       "  <thead>\n",
       "    <tr style=\"text-align: right;\">\n",
       "      <th></th>\n",
       "      <th>Unnamed: 0</th>\n",
       "      <th>review_description</th>\n",
       "      <th>rating</th>\n",
       "      <th>company</th>\n",
       "    </tr>\n",
       "  </thead>\n",
       "  <tbody>\n",
       "    <tr>\n",
       "      <th>0</th>\n",
       "      <td>0</td>\n",
       "      <td>سيئ جدا بعد الإصدار الجديد</td>\n",
       "      <td>-1</td>\n",
       "      <td>alahli_bank</td>\n",
       "    </tr>\n",
       "    <tr>\n",
       "      <th>1</th>\n",
       "      <td>1</td>\n",
       "      <td>ابلكيشن زباله بجد</td>\n",
       "      <td>-1</td>\n",
       "      <td>alahli_bank</td>\n",
       "    </tr>\n",
       "    <tr>\n",
       "      <th>2</th>\n",
       "      <td>2</td>\n",
       "      <td>سيئ التطبيق لايعمل</td>\n",
       "      <td>-1</td>\n",
       "      <td>alahli_bank</td>\n",
       "    </tr>\n",
       "    <tr>\n",
       "      <th>3</th>\n",
       "      <td>3</td>\n",
       "      <td>للأسف التطبيق للأسوأ كان جدا رائع وسهل وبسيط ا...</td>\n",
       "      <td>-1</td>\n",
       "      <td>alahli_bank</td>\n",
       "    </tr>\n",
       "    <tr>\n",
       "      <th>4</th>\n",
       "      <td>4</td>\n",
       "      <td>التحديث بطيئ جدا جدا عند الفتح</td>\n",
       "      <td>-1</td>\n",
       "      <td>alahli_bank</td>\n",
       "    </tr>\n",
       "    <tr>\n",
       "      <th>...</th>\n",
       "      <td>...</td>\n",
       "      <td>...</td>\n",
       "      <td>...</td>\n",
       "      <td>...</td>\n",
       "    </tr>\n",
       "    <tr>\n",
       "      <th>67122</th>\n",
       "      <td>67122</td>\n",
       "      <td>كتاب جيد وإن كان مملا بعض الشيء عند منتصف الكت...</td>\n",
       "      <td>0</td>\n",
       "      <td>hotels</td>\n",
       "    </tr>\n",
       "    <tr>\n",
       "      <th>67123</th>\n",
       "      <td>67123</td>\n",
       "      <td>أول تجربة مع الخيال العلمي...الكثير من المعلوم...</td>\n",
       "      <td>0</td>\n",
       "      <td>hotels</td>\n",
       "    </tr>\n",
       "    <tr>\n",
       "      <th>67124</th>\n",
       "      <td>67124</td>\n",
       "      <td>مرضي. الافطار لذيذ. لا يوجد قائمة طعام في الغر...</td>\n",
       "      <td>0</td>\n",
       "      <td>hotels</td>\n",
       "    </tr>\n",
       "    <tr>\n",
       "      <th>67125</th>\n",
       "      <td>67125</td>\n",
       "      <td>الرسائل بين وائل و شوق كانت أجمل مافي الرواية....</td>\n",
       "      <td>0</td>\n",
       "      <td>hotels</td>\n",
       "    </tr>\n",
       "    <tr>\n",
       "      <th>67126</th>\n",
       "      <td>67126</td>\n",
       "      <td>استقبال سيء جدا وعدم الاستعداد للنزلاء . لا شي...</td>\n",
       "      <td>0</td>\n",
       "      <td>hotels</td>\n",
       "    </tr>\n",
       "  </tbody>\n",
       "</table>\n",
       "<p>67127 rows × 4 columns</p>\n",
       "</div>"
      ],
      "text/plain": [
       "       Unnamed: 0                                 review_description  rating  \\\n",
       "0               0                         سيئ جدا بعد الإصدار الجديد      -1   \n",
       "1               1                                  ابلكيشن زباله بجد      -1   \n",
       "2               2                                 سيئ التطبيق لايعمل      -1   \n",
       "3               3  للأسف التطبيق للأسوأ كان جدا رائع وسهل وبسيط ا...      -1   \n",
       "4               4                     التحديث بطيئ جدا جدا عند الفتح      -1   \n",
       "...           ...                                                ...     ...   \n",
       "67122       67122  كتاب جيد وإن كان مملا بعض الشيء عند منتصف الكت...       0   \n",
       "67123       67123  أول تجربة مع الخيال العلمي...الكثير من المعلوم...       0   \n",
       "67124       67124  مرضي. الافطار لذيذ. لا يوجد قائمة طعام في الغر...       0   \n",
       "67125       67125  الرسائل بين وائل و شوق كانت أجمل مافي الرواية....       0   \n",
       "67126       67126  استقبال سيء جدا وعدم الاستعداد للنزلاء . لا شي...       0   \n",
       "\n",
       "           company  \n",
       "0      alahli_bank  \n",
       "1      alahli_bank  \n",
       "2      alahli_bank  \n",
       "3      alahli_bank  \n",
       "4      alahli_bank  \n",
       "...            ...  \n",
       "67122       hotels  \n",
       "67123       hotels  \n",
       "67124       hotels  \n",
       "67125       hotels  \n",
       "67126       hotels  \n",
       "\n",
       "[67127 rows x 4 columns]"
      ]
     },
     "execution_count": 9,
     "metadata": {},
     "output_type": "execute_result"
    }
   ],
   "source": [
    "df"
   ]
  },
  {
   "cell_type": "code",
   "execution_count": 10,
   "id": "c8135034",
   "metadata": {},
   "outputs": [
    {
     "data": {
      "text/plain": [
       "Unnamed: 0             int64\n",
       "review_description    object\n",
       "rating                 int64\n",
       "company               object\n",
       "dtype: object"
      ]
     },
     "execution_count": 10,
     "metadata": {},
     "output_type": "execute_result"
    }
   ],
   "source": [
    "df.dtypes"
   ]
  },
  {
   "cell_type": "code",
   "execution_count": 11,
   "id": "0b1a23be",
   "metadata": {},
   "outputs": [
    {
     "data": {
      "text/plain": [
       "rating\n",
       " 0    23753\n",
       "-1    23035\n",
       " 1    20339\n",
       "Name: count, dtype: int64"
      ]
     },
     "execution_count": 11,
     "metadata": {},
     "output_type": "execute_result"
    }
   ],
   "source": [
    "df['rating'].value_counts()"
   ]
  },
  {
   "cell_type": "code",
   "execution_count": 12,
   "id": "ffb2fe0f",
   "metadata": {},
   "outputs": [
    {
     "data": {
      "text/plain": [
       "np.int64(0)"
      ]
     },
     "execution_count": 12,
     "metadata": {},
     "output_type": "execute_result"
    }
   ],
   "source": [
    "df.duplicated().sum()"
   ]
  },
  {
   "cell_type": "code",
   "execution_count": 16,
   "id": "81d0fcde",
   "metadata": {},
   "outputs": [
    {
     "data": {
      "text/html": [
       "<div>\n",
       "<style scoped>\n",
       "    .dataframe tbody tr th:only-of-type {\n",
       "        vertical-align: middle;\n",
       "    }\n",
       "\n",
       "    .dataframe tbody tr th {\n",
       "        vertical-align: top;\n",
       "    }\n",
       "\n",
       "    .dataframe thead th {\n",
       "        text-align: right;\n",
       "    }\n",
       "</style>\n",
       "<table border=\"1\" class=\"dataframe\">\n",
       "  <thead>\n",
       "    <tr style=\"text-align: right;\">\n",
       "      <th></th>\n",
       "      <th>Unnamed: 0</th>\n",
       "      <th>review_description</th>\n",
       "      <th>rating</th>\n",
       "      <th>company</th>\n",
       "    </tr>\n",
       "  </thead>\n",
       "  <tbody>\n",
       "  </tbody>\n",
       "</table>\n",
       "</div>"
      ],
      "text/plain": [
       "Empty DataFrame\n",
       "Columns: [Unnamed: 0, review_description, rating, company]\n",
       "Index: []"
      ]
     },
     "execution_count": 16,
     "metadata": {},
     "output_type": "execute_result"
    }
   ],
   "source": [
    "df[df.duplicated()]"
   ]
  },
  {
   "cell_type": "code",
   "execution_count": 17,
   "id": "84bc7938",
   "metadata": {},
   "outputs": [
    {
     "data": {
      "text/plain": [
       "Unnamed: 0            0\n",
       "review_description    2\n",
       "rating                0\n",
       "company               0\n",
       "dtype: int64"
      ]
     },
     "execution_count": 17,
     "metadata": {},
     "output_type": "execute_result"
    }
   ],
   "source": [
    "df.isna().sum()"
   ]
  },
  {
   "cell_type": "code",
   "execution_count": 18,
   "id": "e2f51926",
   "metadata": {},
   "outputs": [
    {
     "data": {
      "text/html": [
       "<div>\n",
       "<style scoped>\n",
       "    .dataframe tbody tr th:only-of-type {\n",
       "        vertical-align: middle;\n",
       "    }\n",
       "\n",
       "    .dataframe tbody tr th {\n",
       "        vertical-align: top;\n",
       "    }\n",
       "\n",
       "    .dataframe thead th {\n",
       "        text-align: right;\n",
       "    }\n",
       "</style>\n",
       "<table border=\"1\" class=\"dataframe\">\n",
       "  <thead>\n",
       "    <tr style=\"text-align: right;\">\n",
       "      <th></th>\n",
       "      <th>Unnamed: 0</th>\n",
       "      <th>review_description</th>\n",
       "      <th>rating</th>\n",
       "      <th>company</th>\n",
       "    </tr>\n",
       "  </thead>\n",
       "  <tbody>\n",
       "    <tr>\n",
       "      <th>63890</th>\n",
       "      <td>63890</td>\n",
       "      <td>NaN</td>\n",
       "      <td>0</td>\n",
       "      <td>hotels</td>\n",
       "    </tr>\n",
       "    <tr>\n",
       "      <th>64405</th>\n",
       "      <td>64405</td>\n",
       "      <td>NaN</td>\n",
       "      <td>0</td>\n",
       "      <td>hotels</td>\n",
       "    </tr>\n",
       "  </tbody>\n",
       "</table>\n",
       "</div>"
      ],
      "text/plain": [
       "       Unnamed: 0 review_description  rating company\n",
       "63890       63890                NaN       0  hotels\n",
       "64405       64405                NaN       0  hotels"
      ]
     },
     "execution_count": 18,
     "metadata": {},
     "output_type": "execute_result"
    }
   ],
   "source": [
    "df[df['review_description'].isna()]"
   ]
  },
  {
   "cell_type": "markdown",
   "id": "fe67dec1",
   "metadata": {},
   "source": [
    "### Okay, since there's only two instances that are `nulls`; we can just drop them"
   ]
  },
  {
   "cell_type": "code",
   "execution_count": 19,
   "id": "27db36dc",
   "metadata": {},
   "outputs": [],
   "source": [
    "df.dropna(subset=['review_description'], inplace=True)"
   ]
  },
  {
   "cell_type": "code",
   "execution_count": 20,
   "id": "c9292384",
   "metadata": {},
   "outputs": [
    {
     "data": {
      "text/plain": [
       "Unnamed: 0            0\n",
       "review_description    0\n",
       "rating                0\n",
       "company               0\n",
       "dtype: int64"
      ]
     },
     "execution_count": 20,
     "metadata": {},
     "output_type": "execute_result"
    }
   ],
   "source": [
    "df.isna().sum()"
   ]
  }
 ],
 "metadata": {
  "kernelspec": {
   "display_name": "Python 3",
   "language": "python",
   "name": "python3"
  },
  "language_info": {
   "codemirror_mode": {
    "name": "ipython",
    "version": 3
   },
   "file_extension": ".py",
   "mimetype": "text/x-python",
   "name": "python",
   "nbconvert_exporter": "python",
   "pygments_lexer": "ipython3",
   "version": "3.12.6"
  }
 },
 "nbformat": 4,
 "nbformat_minor": 5
}
